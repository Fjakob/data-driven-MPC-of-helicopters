{
 "cells": [
  {
   "cell_type": "markdown",
   "metadata": {},
   "source": [
    "# Data-driven MPC of helicopters\n",
    "\n",
    "Data-driven Model Predictive Control of 3-DoF Helicopters including mathematical modelling, data generation and control algorithm implementation.\n",
    "\n",
    "### Requirements\n",
    "\n",
    "* [Matlab 2020b](https://de.mathworks.com/company/newsroom/mathworks-introduces-release-2020b-of-matlab-and-simulink.html)\n",
    "* [qpOASES](https://github.com/coin-or/qpOASES) (will be pulled as submodule upon cloning)\n",
    "\n",
    "\n",
    "### Running the Code\n",
    "\n",
    "The [scripts](/src/scripts/) directory contains the main scripts to run all relevant Simulink models with the controllers. The controllers are initialized in each respective script and implemented in the respective model. The main scripts are\n",
    "\n",
    "    quadprog_fixed_data.m\n",
    "    quadprog_updated_data.m\n",
    "    quadprog_scheduled_data.m\n",
    "    qpOases_uncondensed.m\n",
    "    qpOases_condensed.m\n",
    "\n",
    "The qpOASES library has to be compiled first to run the related scripts/models. It is recommended to read the manual first. After cloning/pulling the repo, in the [core](/src/core/), folder move the adjusted file `qpOASES_SQProblem` into the `interfaces\\simulink` subdirectory in qpOASES to allow for computation time restriction.\n",
    "\n",
    "\n",
    "### Documentation\n",
    "\n",
    "A detailed [documentation](/doc/Data-driven-MPC-of-3-DoF-Helicopters) is given in the `doc` directory.\n"
   ]
  }
 ],
 "metadata": {
  "language_info": {
   "name": "python"
  },
  "orig_nbformat": 4
 },
 "nbformat": 4,
 "nbformat_minor": 2
}
